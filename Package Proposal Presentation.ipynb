{
 "cells": [
  {
   "cell_type": "markdown",
   "id": "8efe7978",
   "metadata": {},
   "source": [
    "# dplyr \n",
    "\n",
    "Numerical Computation\n",
    "Community Analysis Project - Proposed Package"
   ]
  },
  {
   "cell_type": "markdown",
   "id": "e011d3ad",
   "metadata": {},
   "source": [
    "dplyr is a package within the tidyverse family of packages that facilitates data manipulation in R. Its grammar and setup build on R's base functions and tidyverse additions to aid in data transformation and analysis. The package's primary audience is those who use R for statistical computing and graphics, particularly data construction and manipulation.\n",
    "\n",
    "Repository URL:\thttps://github.com/tidyverse/dplyr\n",
    "\n",
    "Main/documentation website:\thttps://dplyr.tidyverse.org/"
   ]
  },
  {
   "cell_type": "code",
   "execution_count": null,
   "id": "1602f8b6",
   "metadata": {},
   "outputs": [],
   "source": [
    "install.packages(\"dplyr\")"
   ]
  },
  {
   "cell_type": "code",
   "execution_count": null,
   "id": "4d8b5221",
   "metadata": {},
   "outputs": [],
   "source": [
    "library(dplyr)\n",
    "\n",
    "longley\n",
    "USAccDeaths"
   ]
  },
  {
   "cell_type": "code",
   "execution_count": null,
   "id": "0f43cfb1",
   "metadata": {},
   "outputs": [],
   "source": [
    "longley %>% filter(Unemployed > 300)\n",
    "longley"
   ]
  },
  {
   "cell_type": "code",
   "execution_count": null,
   "id": "81f324b1",
   "metadata": {},
   "outputs": [],
   "source": [
    "USAccDeaths %>% rownames_to_column(USAccDeaths, var = \"Year\")\n",
    "USAccDeaths"
   ]
  },
  {
   "cell_type": "markdown",
   "id": "65938dbc",
   "metadata": {},
   "source": [
    "Questions about the software that might be conducive to experiments:\n",
    "- Many tidyverse packages were created for more efficient data manipulation with large datasets. How do relational joins, matching, and filtering in dplyr compare with the base R merge function?\n",
    "- How do aggregation functions in dplyr compare with base R aggregation functions?\n",
    "\n",
    "(Might not be very relevant to numerical computation though because both of these questions would deal with discrete numbers of observations.)"
   ]
  },
  {
   "cell_type": "markdown",
   "id": "df3fd97f",
   "metadata": {},
   "source": [
    "One experiment that might be interesting for a group project is comparing the performance of dplyr functions to that of similar base R functions using large datasets. Number of observations versus runtime could be plotted to gauge differences."
   ]
  },
  {
   "cell_type": "code",
   "execution_count": null,
   "id": "56f947a8",
   "metadata": {},
   "outputs": [],
   "source": []
  }
 ],
 "metadata": {
  "kernelspec": {
   "display_name": "R",
   "language": "R",
   "name": "ir"
  },
  "language_info": {
   "codemirror_mode": "r",
   "file_extension": ".r",
   "mimetype": "text/x-r-source",
   "name": "R",
   "pygments_lexer": "r",
   "version": "3.6.1"
  }
 },
 "nbformat": 4,
 "nbformat_minor": 5
}
